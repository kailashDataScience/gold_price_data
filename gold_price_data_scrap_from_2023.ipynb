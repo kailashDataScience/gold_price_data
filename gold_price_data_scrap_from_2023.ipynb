{
  "cells": [
    {
      "cell_type": "markdown",
      "metadata": {
        "id": "view-in-github",
        "colab_type": "text"
      },
      "source": [
        "<a href=\"https://colab.research.google.com/github/kailashDataScience/gold_price_data/blob/main/gold_price_data_scrap_from_2023.ipynb\" target=\"_parent\"><img src=\"https://colab.research.google.com/assets/colab-badge.svg\" alt=\"Open In Colab\"/></a>"
      ]
    },
    {
      "cell_type": "markdown",
      "source": [
        "IMPORT REQURIED PACKAGES\n"
      ],
      "metadata": {
        "id": "BdfZGDog9QVi"
      }
    },
    {
      "cell_type": "code",
      "execution_count": 115,
      "metadata": {
        "id": "JlmagZpOXJVZ"
      },
      "outputs": [],
      "source": [
        "import pandas as pd \n",
        "import requests as req\n",
        "from bs4 import BeautifulSoup"
      ]
    },
    {
      "cell_type": "markdown",
      "source": [
        "GET THE REPONSES FROM THE GIVEN URL"
      ],
      "metadata": {
        "id": "4_S4ST0x9bIA"
      }
    },
    {
      "cell_type": "code",
      "execution_count": 116,
      "metadata": {
        "id": "RRzVPbIRXa4Z"
      },
      "outputs": [],
      "source": [
        "url=[\"https://www.livechennai.com/get_goldrate_history.asp?monthno=1&yearno=2023\",\n",
        "     \"https://www.livechennai.com/get_goldrate_history.asp?monthno=2&yearno=2023\",\n",
        "     \"https://www.livechennai.com/get_goldrate_history.asp?monthno=3&yearno=2023\",\n",
        "     \"https://www.livechennai.com/get_goldrate_history.asp?monthno=4&yearno=2023\"]\n",
        "page1= req.get(url[0])\n",
        "page2=req.get(url[1])\n",
        "page3=req.get(url[2])\n",
        "page4=req.get(url[3])"
      ]
    },
    {
      "cell_type": "markdown",
      "source": [
        "CREATE SOUP OBJECT FOR EVERY PAGE"
      ],
      "metadata": {
        "id": "MX7nQxII9rMm"
      }
    },
    {
      "cell_type": "code",
      "execution_count": 117,
      "metadata": {
        "id": "_C68cOoDs_xn"
      },
      "outputs": [],
      "source": [
        "soup1 = BeautifulSoup(page1.text,'lxml')\n",
        "soup2 = BeautifulSoup(page2.text,'lxml')\n",
        "soup3 = BeautifulSoup(page3.text,'lxml')\n",
        "soup4 = BeautifulSoup(page4.text,'lxml')"
      ]
    },
    {
      "cell_type": "markdown",
      "source": [
        "FIND ALL tr tags FROM THE PAGES THEN FIND ALL td tags FOR MONTHLY DATA BY USING monthData() function"
      ],
      "metadata": {
        "id": "UM4_juuR94lO"
      }
    },
    {
      "cell_type": "code",
      "execution_count": 118,
      "metadata": {
        "id": "fFLisSnn7ZGQ"
      },
      "outputs": [],
      "source": [
        "tr_tag1 = soup1.find_all('tr')\n",
        "tr_tag2 = soup2.find_all('tr')\n",
        "tr_tag3 = soup3.find_all('tr')\n",
        "tr_tag4 = soup4.find_all('tr')\n",
        "\n",
        "def monthData(mdata):\n",
        "  mon_data=[]\n",
        "  for tr1 in mdata:\n",
        "      td_tag =tr1.find_all('td')\n",
        "      row = [i.text.strip() for i in td_tag]\n",
        "      mon_data.append(row)\n",
        "  return mon_data\n",
        "\n",
        "\n",
        "jan_data = monthData(tr_tag1)\n",
        "feb_data = monthData(tr_tag2)\n",
        "mar_data = monthData(tr_tag3)\n",
        "apr_data = monthData(tr_tag4)\n"
      ]
    },
    {
      "cell_type": "markdown",
      "source": [
        "REMOVE UNWANTED DATAS FROM THE EACH MONTH DATA LIST"
      ],
      "metadata": {
        "id": "xnwHv3Kg_TpM"
      }
    },
    {
      "cell_type": "code",
      "execution_count": 119,
      "metadata": {
        "id": "jOCZu0YV-HrG"
      },
      "outputs": [],
      "source": [
        "\n",
        "jan_data = jan_data[3:][:-3]\n",
        "feb_data = feb_data[3:][:-3]\n",
        "mar_data = mar_data[3:][:-3]\n",
        "apr_data = apr_data[3:][:-3]\n",
        "\n"
      ]
    },
    {
      "cell_type": "markdown",
      "source": [
        "DIVIDE A DATA LIKE DATE, PURE GOLD, STD GOLD"
      ],
      "metadata": {
        "id": "yzaMJgFn_jqL"
      }
    },
    {
      "cell_type": "code",
      "execution_count": 120,
      "metadata": {
        "id": "JmV9zkDZ-RiN"
      },
      "outputs": [],
      "source": [
        "def process(data):\n",
        "  return [lst[0] for lst in data],[lst[1] for lst in data],[lst[2] for lst in data]\n",
        "\n",
        "jan_date, jan_gold_24k, jan_gold_22k = process(jan_data)\n",
        "feb_date, feb_gold_24k, feb_gold_22k = process(feb_data)\n",
        "mar_date, mar_gold_24k, mar_gold_22k = process(mar_data)\n",
        "apr_date, apr_gold_24k, apr_gold_22k = process(apr_data)\n"
      ]
    },
    {
      "cell_type": "markdown",
      "source": [
        "\n",
        "\n",
        "1.  DATE -> GROUP ALL DATES FROM EACH LIST INTO SINGLE LIST\n",
        "2.  GOLD_24K -> GROUP ALL PURE GOLD PRICE FROM EACH LIST INTO SINGLE LIST\n",
        "3.  GOLD_22K -> GROUP ALL STD GOLD PRICE FROM EACH LIST INTO SINGLE LIST\n",
        "\n",
        "\n",
        "\n"
      ],
      "metadata": {
        "id": "WaBebHNjAHJK"
      }
    },
    {
      "cell_type": "code",
      "execution_count": 121,
      "metadata": {
        "id": "8MSIh8H9Mo26"
      },
      "outputs": [],
      "source": [
        "Date     = [jan_date, feb_date, mar_date,apr_date]\n",
        "gold_24k = [jan_gold_24k,feb_gold_24k, mar_gold_24k,apr_gold_24k]\n",
        "gold_22k = [jan_gold_22k,feb_gold_22k, mar_gold_22k,apr_gold_22k]"
      ]
    },
    {
      "cell_type": "markdown",
      "source": [
        "CREATE A DICTIONARY THAT CONTAIN DATE, GOLD_24K_PRICE AND GOLD_22K_PRICE FOR GIVING AS A ARGUMENT TO DATAFRAME"
      ],
      "metadata": {
        "id": "zsCpPKptCW53"
      }
    },
    {
      "cell_type": "code",
      "execution_count": 122,
      "metadata": {
        "id": "ongrLB-ojDK2"
      },
      "outputs": [],
      "source": [
        "def createDict(date,gold_24k,gold_22k):\n",
        "  dict={\n",
        "      \"DATE\":date,\n",
        "    \"GOLD_24k_PRICE\":gold_24k,\n",
        "    \"GOLD_22k_PRICE\":gold_22k\n",
        "  }\n",
        "  return dict\n",
        "\n",
        "  \n",
        "jan_gold_price_data = createDict(jan_date, jan_gold_24k, jan_gold_22k)\n",
        "feb_gold_price_data = createDict(feb_date, feb_gold_24k, feb_gold_22k)\n",
        "mar_gold_price_data = createDict(mar_date, mar_gold_24k, mar_gold_22k)\n",
        "apr_gold_price_data = createDict(apr_date, apr_gold_24k, apr_gold_22k)"
      ]
    },
    {
      "cell_type": "markdown",
      "source": [
        "CREATE A DATAFRAME FOR EACH MONTH OF DATA"
      ],
      "metadata": {
        "id": "UmsOSVxLBmOh"
      }
    },
    {
      "cell_type": "code",
      "execution_count": 123,
      "metadata": {
        "id": "I4kZZd7mjlMS"
      },
      "outputs": [],
      "source": [
        "\n",
        "df_jan = pd.DataFrame(jan_gold_price_data) # FOR JANUARY \n",
        "df_feb = pd.DataFrame(feb_gold_price_data) # FOR FEBRARY\n",
        "df_mar = pd.DataFrame(mar_gold_price_data) #FOR MARCH\n",
        "df_apr = pd.DataFrame(apr_gold_price_data) #FOR APIRAL\n",
        "\n",
        "data=pd.concat([df_jan,df_feb,df_mar,df_apr],axis = 0) #CONCATINATE ALL DATAFRAME FOR TOGETHER"
      ]
    },
    {
      "cell_type": "code",
      "execution_count": 124,
      "metadata": {
        "id": "HqeZDPoEj39s",
        "colab": {
          "base_uri": "https://localhost:8080/",
          "height": 424
        },
        "outputId": "c5ef1f22-ff73-4cda-f476-d855279789bc"
      },
      "outputs": [
        {
          "output_type": "execute_result",
          "data": {
            "text/plain": [
              "                DATE GOLD_24k_PRICE GOLD_22k_PRICE\n",
              "0    01/January/2023        5532.00        5130.00\n",
              "1    02/January/2023        5552.00        5150.00\n",
              "2    03/January/2023        5593.00        5191.00\n",
              "3    04/January/2023        5620.00        5238.00\n",
              "4    05/January/2023        5590.00        5228.00\n",
              "..               ...            ...            ...\n",
              "107    18/April/2023        6097.00        5650.00\n",
              "108    19/April/2023        6075.00        5665.00\n",
              "109    20/April/2023        6097.00        5650.00\n",
              "110    21/April/2023        6119.00        5665.00\n",
              "111    22/April/2023        6059.00        5605.00\n",
              "\n",
              "[112 rows x 3 columns]"
            ],
            "text/html": [
              "\n",
              "  <div id=\"df-832296d0-8003-4454-9f8f-53906358705b\">\n",
              "    <div class=\"colab-df-container\">\n",
              "      <div>\n",
              "<style scoped>\n",
              "    .dataframe tbody tr th:only-of-type {\n",
              "        vertical-align: middle;\n",
              "    }\n",
              "\n",
              "    .dataframe tbody tr th {\n",
              "        vertical-align: top;\n",
              "    }\n",
              "\n",
              "    .dataframe thead th {\n",
              "        text-align: right;\n",
              "    }\n",
              "</style>\n",
              "<table border=\"1\" class=\"dataframe\">\n",
              "  <thead>\n",
              "    <tr style=\"text-align: right;\">\n",
              "      <th></th>\n",
              "      <th>DATE</th>\n",
              "      <th>GOLD_24k_PRICE</th>\n",
              "      <th>GOLD_22k_PRICE</th>\n",
              "    </tr>\n",
              "  </thead>\n",
              "  <tbody>\n",
              "    <tr>\n",
              "      <th>0</th>\n",
              "      <td>01/January/2023</td>\n",
              "      <td>5532.00</td>\n",
              "      <td>5130.00</td>\n",
              "    </tr>\n",
              "    <tr>\n",
              "      <th>1</th>\n",
              "      <td>02/January/2023</td>\n",
              "      <td>5552.00</td>\n",
              "      <td>5150.00</td>\n",
              "    </tr>\n",
              "    <tr>\n",
              "      <th>2</th>\n",
              "      <td>03/January/2023</td>\n",
              "      <td>5593.00</td>\n",
              "      <td>5191.00</td>\n",
              "    </tr>\n",
              "    <tr>\n",
              "      <th>3</th>\n",
              "      <td>04/January/2023</td>\n",
              "      <td>5620.00</td>\n",
              "      <td>5238.00</td>\n",
              "    </tr>\n",
              "    <tr>\n",
              "      <th>4</th>\n",
              "      <td>05/January/2023</td>\n",
              "      <td>5590.00</td>\n",
              "      <td>5228.00</td>\n",
              "    </tr>\n",
              "    <tr>\n",
              "      <th>...</th>\n",
              "      <td>...</td>\n",
              "      <td>...</td>\n",
              "      <td>...</td>\n",
              "    </tr>\n",
              "    <tr>\n",
              "      <th>107</th>\n",
              "      <td>18/April/2023</td>\n",
              "      <td>6097.00</td>\n",
              "      <td>5650.00</td>\n",
              "    </tr>\n",
              "    <tr>\n",
              "      <th>108</th>\n",
              "      <td>19/April/2023</td>\n",
              "      <td>6075.00</td>\n",
              "      <td>5665.00</td>\n",
              "    </tr>\n",
              "    <tr>\n",
              "      <th>109</th>\n",
              "      <td>20/April/2023</td>\n",
              "      <td>6097.00</td>\n",
              "      <td>5650.00</td>\n",
              "    </tr>\n",
              "    <tr>\n",
              "      <th>110</th>\n",
              "      <td>21/April/2023</td>\n",
              "      <td>6119.00</td>\n",
              "      <td>5665.00</td>\n",
              "    </tr>\n",
              "    <tr>\n",
              "      <th>111</th>\n",
              "      <td>22/April/2023</td>\n",
              "      <td>6059.00</td>\n",
              "      <td>5605.00</td>\n",
              "    </tr>\n",
              "  </tbody>\n",
              "</table>\n",
              "<p>112 rows × 3 columns</p>\n",
              "</div>\n",
              "      <button class=\"colab-df-convert\" onclick=\"convertToInteractive('df-832296d0-8003-4454-9f8f-53906358705b')\"\n",
              "              title=\"Convert this dataframe to an interactive table.\"\n",
              "              style=\"display:none;\">\n",
              "        \n",
              "  <svg xmlns=\"http://www.w3.org/2000/svg\" height=\"24px\"viewBox=\"0 0 24 24\"\n",
              "       width=\"24px\">\n",
              "    <path d=\"M0 0h24v24H0V0z\" fill=\"none\"/>\n",
              "    <path d=\"M18.56 5.44l.94 2.06.94-2.06 2.06-.94-2.06-.94-.94-2.06-.94 2.06-2.06.94zm-11 1L8.5 8.5l.94-2.06 2.06-.94-2.06-.94L8.5 2.5l-.94 2.06-2.06.94zm10 10l.94 2.06.94-2.06 2.06-.94-2.06-.94-.94-2.06-.94 2.06-2.06.94z\"/><path d=\"M17.41 7.96l-1.37-1.37c-.4-.4-.92-.59-1.43-.59-.52 0-1.04.2-1.43.59L10.3 9.45l-7.72 7.72c-.78.78-.78 2.05 0 2.83L4 21.41c.39.39.9.59 1.41.59.51 0 1.02-.2 1.41-.59l7.78-7.78 2.81-2.81c.8-.78.8-2.07 0-2.86zM5.41 20L4 18.59l7.72-7.72 1.47 1.35L5.41 20z\"/>\n",
              "  </svg>\n",
              "      </button>\n",
              "      \n",
              "  <style>\n",
              "    .colab-df-container {\n",
              "      display:flex;\n",
              "      flex-wrap:wrap;\n",
              "      gap: 12px;\n",
              "    }\n",
              "\n",
              "    .colab-df-convert {\n",
              "      background-color: #E8F0FE;\n",
              "      border: none;\n",
              "      border-radius: 50%;\n",
              "      cursor: pointer;\n",
              "      display: none;\n",
              "      fill: #1967D2;\n",
              "      height: 32px;\n",
              "      padding: 0 0 0 0;\n",
              "      width: 32px;\n",
              "    }\n",
              "\n",
              "    .colab-df-convert:hover {\n",
              "      background-color: #E2EBFA;\n",
              "      box-shadow: 0px 1px 2px rgba(60, 64, 67, 0.3), 0px 1px 3px 1px rgba(60, 64, 67, 0.15);\n",
              "      fill: #174EA6;\n",
              "    }\n",
              "\n",
              "    [theme=dark] .colab-df-convert {\n",
              "      background-color: #3B4455;\n",
              "      fill: #D2E3FC;\n",
              "    }\n",
              "\n",
              "    [theme=dark] .colab-df-convert:hover {\n",
              "      background-color: #434B5C;\n",
              "      box-shadow: 0px 1px 3px 1px rgba(0, 0, 0, 0.15);\n",
              "      filter: drop-shadow(0px 1px 2px rgba(0, 0, 0, 0.3));\n",
              "      fill: #FFFFFF;\n",
              "    }\n",
              "  </style>\n",
              "\n",
              "      <script>\n",
              "        const buttonEl =\n",
              "          document.querySelector('#df-832296d0-8003-4454-9f8f-53906358705b button.colab-df-convert');\n",
              "        buttonEl.style.display =\n",
              "          google.colab.kernel.accessAllowed ? 'block' : 'none';\n",
              "\n",
              "        async function convertToInteractive(key) {\n",
              "          const element = document.querySelector('#df-832296d0-8003-4454-9f8f-53906358705b');\n",
              "          const dataTable =\n",
              "            await google.colab.kernel.invokeFunction('convertToInteractive',\n",
              "                                                     [key], {});\n",
              "          if (!dataTable) return;\n",
              "\n",
              "          const docLinkHtml = 'Like what you see? Visit the ' +\n",
              "            '<a target=\"_blank\" href=https://colab.research.google.com/notebooks/data_table.ipynb>data table notebook</a>'\n",
              "            + ' to learn more about interactive tables.';\n",
              "          element.innerHTML = '';\n",
              "          dataTable['output_type'] = 'display_data';\n",
              "          await google.colab.output.renderOutput(dataTable, element);\n",
              "          const docLink = document.createElement('div');\n",
              "          docLink.innerHTML = docLinkHtml;\n",
              "          element.appendChild(docLink);\n",
              "        }\n",
              "      </script>\n",
              "    </div>\n",
              "  </div>\n",
              "  "
            ]
          },
          "metadata": {},
          "execution_count": 124
        }
      ],
      "source": [
        "\n",
        "data.reset_index(drop=True,inplace=True)\n",
        "data"
      ]
    },
    {
      "cell_type": "code",
      "execution_count": 125,
      "metadata": {
        "id": "J0bLakB9j4_t"
      },
      "outputs": [],
      "source": [
        "data.to_csv('gold_price_data.csv')"
      ]
    },
    {
      "cell_type": "code",
      "execution_count": 126,
      "metadata": {
        "id": "Z9lZxvgfkGs4",
        "colab": {
          "base_uri": "https://localhost:8080/",
          "height": 424
        },
        "outputId": "1e8c406d-a2df-4901-a061-a0eb3ab41f4c"
      },
      "outputs": [
        {
          "output_type": "execute_result",
          "data": {
            "text/plain": [
              "     Unnamed: 0             DATE  GOLD_24k_PRICE  GOLD_22k_PRICE\n",
              "0             0  01/January/2023          5532.0          5130.0\n",
              "1             1  02/January/2023          5552.0          5150.0\n",
              "2             2  03/January/2023          5593.0          5191.0\n",
              "3             3  04/January/2023          5620.0          5238.0\n",
              "4             4  05/January/2023          5590.0          5228.0\n",
              "..          ...              ...             ...             ...\n",
              "107         107    18/April/2023          6097.0          5650.0\n",
              "108         108    19/April/2023          6075.0          5665.0\n",
              "109         109    20/April/2023          6097.0          5650.0\n",
              "110         110    21/April/2023          6119.0          5665.0\n",
              "111         111    22/April/2023          6059.0          5605.0\n",
              "\n",
              "[112 rows x 4 columns]"
            ],
            "text/html": [
              "\n",
              "  <div id=\"df-52f88d9c-9b3b-4135-8cda-91c0e62b7fcc\">\n",
              "    <div class=\"colab-df-container\">\n",
              "      <div>\n",
              "<style scoped>\n",
              "    .dataframe tbody tr th:only-of-type {\n",
              "        vertical-align: middle;\n",
              "    }\n",
              "\n",
              "    .dataframe tbody tr th {\n",
              "        vertical-align: top;\n",
              "    }\n",
              "\n",
              "    .dataframe thead th {\n",
              "        text-align: right;\n",
              "    }\n",
              "</style>\n",
              "<table border=\"1\" class=\"dataframe\">\n",
              "  <thead>\n",
              "    <tr style=\"text-align: right;\">\n",
              "      <th></th>\n",
              "      <th>Unnamed: 0</th>\n",
              "      <th>DATE</th>\n",
              "      <th>GOLD_24k_PRICE</th>\n",
              "      <th>GOLD_22k_PRICE</th>\n",
              "    </tr>\n",
              "  </thead>\n",
              "  <tbody>\n",
              "    <tr>\n",
              "      <th>0</th>\n",
              "      <td>0</td>\n",
              "      <td>01/January/2023</td>\n",
              "      <td>5532.0</td>\n",
              "      <td>5130.0</td>\n",
              "    </tr>\n",
              "    <tr>\n",
              "      <th>1</th>\n",
              "      <td>1</td>\n",
              "      <td>02/January/2023</td>\n",
              "      <td>5552.0</td>\n",
              "      <td>5150.0</td>\n",
              "    </tr>\n",
              "    <tr>\n",
              "      <th>2</th>\n",
              "      <td>2</td>\n",
              "      <td>03/January/2023</td>\n",
              "      <td>5593.0</td>\n",
              "      <td>5191.0</td>\n",
              "    </tr>\n",
              "    <tr>\n",
              "      <th>3</th>\n",
              "      <td>3</td>\n",
              "      <td>04/January/2023</td>\n",
              "      <td>5620.0</td>\n",
              "      <td>5238.0</td>\n",
              "    </tr>\n",
              "    <tr>\n",
              "      <th>4</th>\n",
              "      <td>4</td>\n",
              "      <td>05/January/2023</td>\n",
              "      <td>5590.0</td>\n",
              "      <td>5228.0</td>\n",
              "    </tr>\n",
              "    <tr>\n",
              "      <th>...</th>\n",
              "      <td>...</td>\n",
              "      <td>...</td>\n",
              "      <td>...</td>\n",
              "      <td>...</td>\n",
              "    </tr>\n",
              "    <tr>\n",
              "      <th>107</th>\n",
              "      <td>107</td>\n",
              "      <td>18/April/2023</td>\n",
              "      <td>6097.0</td>\n",
              "      <td>5650.0</td>\n",
              "    </tr>\n",
              "    <tr>\n",
              "      <th>108</th>\n",
              "      <td>108</td>\n",
              "      <td>19/April/2023</td>\n",
              "      <td>6075.0</td>\n",
              "      <td>5665.0</td>\n",
              "    </tr>\n",
              "    <tr>\n",
              "      <th>109</th>\n",
              "      <td>109</td>\n",
              "      <td>20/April/2023</td>\n",
              "      <td>6097.0</td>\n",
              "      <td>5650.0</td>\n",
              "    </tr>\n",
              "    <tr>\n",
              "      <th>110</th>\n",
              "      <td>110</td>\n",
              "      <td>21/April/2023</td>\n",
              "      <td>6119.0</td>\n",
              "      <td>5665.0</td>\n",
              "    </tr>\n",
              "    <tr>\n",
              "      <th>111</th>\n",
              "      <td>111</td>\n",
              "      <td>22/April/2023</td>\n",
              "      <td>6059.0</td>\n",
              "      <td>5605.0</td>\n",
              "    </tr>\n",
              "  </tbody>\n",
              "</table>\n",
              "<p>112 rows × 4 columns</p>\n",
              "</div>\n",
              "      <button class=\"colab-df-convert\" onclick=\"convertToInteractive('df-52f88d9c-9b3b-4135-8cda-91c0e62b7fcc')\"\n",
              "              title=\"Convert this dataframe to an interactive table.\"\n",
              "              style=\"display:none;\">\n",
              "        \n",
              "  <svg xmlns=\"http://www.w3.org/2000/svg\" height=\"24px\"viewBox=\"0 0 24 24\"\n",
              "       width=\"24px\">\n",
              "    <path d=\"M0 0h24v24H0V0z\" fill=\"none\"/>\n",
              "    <path d=\"M18.56 5.44l.94 2.06.94-2.06 2.06-.94-2.06-.94-.94-2.06-.94 2.06-2.06.94zm-11 1L8.5 8.5l.94-2.06 2.06-.94-2.06-.94L8.5 2.5l-.94 2.06-2.06.94zm10 10l.94 2.06.94-2.06 2.06-.94-2.06-.94-.94-2.06-.94 2.06-2.06.94z\"/><path d=\"M17.41 7.96l-1.37-1.37c-.4-.4-.92-.59-1.43-.59-.52 0-1.04.2-1.43.59L10.3 9.45l-7.72 7.72c-.78.78-.78 2.05 0 2.83L4 21.41c.39.39.9.59 1.41.59.51 0 1.02-.2 1.41-.59l7.78-7.78 2.81-2.81c.8-.78.8-2.07 0-2.86zM5.41 20L4 18.59l7.72-7.72 1.47 1.35L5.41 20z\"/>\n",
              "  </svg>\n",
              "      </button>\n",
              "      \n",
              "  <style>\n",
              "    .colab-df-container {\n",
              "      display:flex;\n",
              "      flex-wrap:wrap;\n",
              "      gap: 12px;\n",
              "    }\n",
              "\n",
              "    .colab-df-convert {\n",
              "      background-color: #E8F0FE;\n",
              "      border: none;\n",
              "      border-radius: 50%;\n",
              "      cursor: pointer;\n",
              "      display: none;\n",
              "      fill: #1967D2;\n",
              "      height: 32px;\n",
              "      padding: 0 0 0 0;\n",
              "      width: 32px;\n",
              "    }\n",
              "\n",
              "    .colab-df-convert:hover {\n",
              "      background-color: #E2EBFA;\n",
              "      box-shadow: 0px 1px 2px rgba(60, 64, 67, 0.3), 0px 1px 3px 1px rgba(60, 64, 67, 0.15);\n",
              "      fill: #174EA6;\n",
              "    }\n",
              "\n",
              "    [theme=dark] .colab-df-convert {\n",
              "      background-color: #3B4455;\n",
              "      fill: #D2E3FC;\n",
              "    }\n",
              "\n",
              "    [theme=dark] .colab-df-convert:hover {\n",
              "      background-color: #434B5C;\n",
              "      box-shadow: 0px 1px 3px 1px rgba(0, 0, 0, 0.15);\n",
              "      filter: drop-shadow(0px 1px 2px rgba(0, 0, 0, 0.3));\n",
              "      fill: #FFFFFF;\n",
              "    }\n",
              "  </style>\n",
              "\n",
              "      <script>\n",
              "        const buttonEl =\n",
              "          document.querySelector('#df-52f88d9c-9b3b-4135-8cda-91c0e62b7fcc button.colab-df-convert');\n",
              "        buttonEl.style.display =\n",
              "          google.colab.kernel.accessAllowed ? 'block' : 'none';\n",
              "\n",
              "        async function convertToInteractive(key) {\n",
              "          const element = document.querySelector('#df-52f88d9c-9b3b-4135-8cda-91c0e62b7fcc');\n",
              "          const dataTable =\n",
              "            await google.colab.kernel.invokeFunction('convertToInteractive',\n",
              "                                                     [key], {});\n",
              "          if (!dataTable) return;\n",
              "\n",
              "          const docLinkHtml = 'Like what you see? Visit the ' +\n",
              "            '<a target=\"_blank\" href=https://colab.research.google.com/notebooks/data_table.ipynb>data table notebook</a>'\n",
              "            + ' to learn more about interactive tables.';\n",
              "          element.innerHTML = '';\n",
              "          dataTable['output_type'] = 'display_data';\n",
              "          await google.colab.output.renderOutput(dataTable, element);\n",
              "          const docLink = document.createElement('div');\n",
              "          docLink.innerHTML = docLinkHtml;\n",
              "          element.appendChild(docLink);\n",
              "        }\n",
              "      </script>\n",
              "    </div>\n",
              "  </div>\n",
              "  "
            ]
          },
          "metadata": {},
          "execution_count": 126
        }
      ],
      "source": [
        "readcsv =pd.read_csv('/content/gold_price_data.csv')\n",
        "readcsv"
      ]
    },
    {
      "cell_type": "code",
      "execution_count": 129,
      "metadata": {
        "id": "K2p2C7L5kbio",
        "colab": {
          "base_uri": "https://localhost:8080/"
        },
        "outputId": "029e17a0-acce-4329-8cb7-4758c8a4b1f8"
      },
      "outputs": [
        {
          "output_type": "stream",
          "name": "stdout",
          "text": [
            "<class 'pandas.core.frame.DataFrame'>\n",
            "RangeIndex: 112 entries, 0 to 111\n",
            "Data columns (total 3 columns):\n",
            " #   Column          Non-Null Count  Dtype \n",
            "---  ------          --------------  ----- \n",
            " 0   DATE            112 non-null    object\n",
            " 1   GOLD_24k_PRICE  112 non-null    object\n",
            " 2   GOLD_22k_PRICE  112 non-null    object\n",
            "dtypes: object(3)\n",
            "memory usage: 2.8+ KB\n"
          ]
        }
      ],
      "source": [
        "data.info()"
      ]
    },
    {
      "cell_type": "code",
      "execution_count": 130,
      "metadata": {
        "id": "0kMHsv5uk5Jr",
        "colab": {
          "base_uri": "https://localhost:8080/"
        },
        "outputId": "650e9c00-658d-4e4f-8971-b1896a0f6639"
      },
      "outputs": [
        {
          "output_type": "execute_result",
          "data": {
            "text/plain": [
              "DATE              0\n",
              "GOLD_24k_PRICE    0\n",
              "GOLD_22k_PRICE    0\n",
              "dtype: int64"
            ]
          },
          "metadata": {},
          "execution_count": 130
        }
      ],
      "source": [
        "data.isnull().sum()"
      ]
    },
    {
      "cell_type": "code",
      "execution_count": 114,
      "metadata": {
        "id": "M_aLUOqolWbP"
      },
      "outputs": [],
      "source": []
    }
  ],
  "metadata": {
    "colab": {
      "provenance": [],
      "authorship_tag": "ABX9TyNzFYxokRmvd53QPOGzhVZo",
      "include_colab_link": true
    },
    "kernelspec": {
      "display_name": "Python 3",
      "name": "python3"
    },
    "language_info": {
      "name": "python"
    }
  },
  "nbformat": 4,
  "nbformat_minor": 0
}